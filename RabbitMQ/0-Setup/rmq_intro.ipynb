{
 "cells": [
  {
   "cell_type": "markdown",
   "metadata": {},
   "source": [
    "```python\n",
    "# Copyright 2022 Bloomberg Finance L.P.\n",
    "#\n",
    "# Licensed under the Apache License, Version 2.0 (the \"License\");\n",
    "# you may not use this file except in compliance with the License.\n",
    "# You may obtain a copy of the License at\n",
    "#\n",
    "#     http://www.apache.org/licenses/LICENSE-2.0\n",
    "#\n",
    "# Unless required by applicable law or agreed to in writing, software\n",
    "# distributed under the License is distributed on an \"AS IS\" BASIS,\n",
    "# WITHOUT WARRANTIES OR CONDITIONS OF ANY KIND, either express or implied.\n",
    "# See the License for the specific language governing permissions and\n",
    "# limitations under the License.\n",
    "```\n",
    "\n",
    "# Rabbit MQ Setup Learning Item\n",
    "\n",
    "### What is Rabbit MQ?\n",
    "\n",
    "RabbitMQ is a lightweight, language agnostic & open source messaging software that implements the [AMQP (Advanced Message Queuing Protocol)](https://www.amqp.org/about/what). It works as a message broker that supports various types of asynchronous messaging features and routing types. Using RabbitMQ you can configure your message to get from a source to destinations in a variety of ways.\n",
    "\n",
    "Within this lab we'll focus on setting up a basic producer-consumer framework within rabbitMQ. This is just the beginning and there are many more ways rabbitMQ can be used! For more learning opportunities check out the official rabbitMQ [Getting Started](https://www.rabbitmq.com/getstarted.html) page\n",
    "\n",
    "### Setting up RabbitMQ within Docker\n",
    "\n",
    "For this lab we'll be using Docker to manage the rabbitMQ management image along with a Jupyter notebook image that we'll use to create applications that can produce & consume data using rabbitMQ. To begin let's make sure we're able to properly setup the rabbitMQ image from DockerHub & that we can run the management dashboard.\n",
    "\n",
    "#### Pulling the RabbitMQ image\n",
    "\n",
    "Through the lab we'll be using the docker image `rabbitmq:3-management`. This image includes all the basic rabbitMQ features with the rabbitMQ management UI. Pull down the image locally using `docker pull rabbitmq:3-management`\n",
    "\n",
    "#### Running the RabbitMQ Image\n",
    "\n",
    "To run the rabbitMQ image we can use the command `docker run --rm -p 15672:15672 -p 5672:5672 rabbitmq:3-management`. \n",
    "After a small period you should see ouput to your terminal similar to:\n",
    "```\n",
    "2022-10-30 19:13:09.745287+00:00 [info] <0.728.0> Server startup complete; 4 plugins started.\n",
    "2022-10-30 19:13:09.745287+00:00 [info] <0.728.0>  * rabbitmq_prometheus\n",
    "2022-10-30 19:13:09.745287+00:00 [info] <0.728.0>  * rabbitmq_management\n",
    "2022-10-30 19:13:09.745287+00:00 [info] <0.728.0>  * rabbitmq_web_dispatch\n",
    "2022-10-30 19:13:09.745287+00:00 [info] <0.728.0>  * rabbitmq_management_agent\n",
    "```\n",
    "\n",
    "This will start a docker container with a few options. The `--rm` flag tells docker to remove the continer after it exits. The two port flags (`-p`) map & expose ports 15672 & 5672. Port 5672 is used by the AMQ Protocol for messaging while port 15672 is used by the RabbitMQ management UI. For now our main concern port 15672. \n",
    "\n",
    "At this point & time you should be able to access the rabbitMQ management UI via `localhost:15672` in a web browser. You may be prompted with a login screen, which you can use the default username & password of *guest*.\n",
    "\n",
    "![alt text](./rabbit_mq_management_ui.PNG)\n",
    "\n",
    "\n",
    "#### Interfacing with RabbitMQ\n",
    "\n",
    "For the scope of this lab we'll be using the [pika](https://pika.readthedocs.io/en/stable/) package. This is an easy to use python implementation of the AMQP protocol."
   ]
  }
 ],
 "metadata": {
  "kernelspec": {
   "display_name": "Python 3.9.5 64-bit",
   "language": "python",
   "name": "python3"
  },
  "language_info": {
   "codemirror_mode": {
    "name": "ipython",
    "version": 3
   },
   "file_extension": ".py",
   "mimetype": "text/x-python",
   "name": "python",
   "nbconvert_exporter": "python",
   "pygments_lexer": "ipython3",
   "version": "3.9.5"
  },
  "orig_nbformat": 4,
  "vscode": {
   "interpreter": {
    "hash": "6faf60acf2378adaaab85c2073b6c5e11a669e6a3edbe78352cafb6588944519"
   }
  }
 },
 "nbformat": 4,
 "nbformat_minor": 2
}
