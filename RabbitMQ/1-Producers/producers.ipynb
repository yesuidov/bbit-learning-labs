{
 "cells": [
  {
   "cell_type": "markdown",
   "metadata": {},
   "source": [
    "```python\n",
    "# Copyright 2022 Bloomberg Finance L.P.\n",
    "#\n",
    "# Licensed under the Apache License, Version 2.0 (the \"License\");\n",
    "# you may not use this file except in compliance with the License.\n",
    "# You may obtain a copy of the License at\n",
    "#\n",
    "#     http://www.apache.org/licenses/LICENSE-2.0\n",
    "#\n",
    "# Unless required by applicable law or agreed to in writing, software\n",
    "# distributed under the License is distributed on an \"AS IS\" BASIS,\n",
    "# WITHOUT WARRANTIES OR CONDITIONS OF ANY KIND, either express or implied.\n",
    "# See the License for the specific language governing permissions and\n",
    "# limitations under the License.\n",
    "```\n",
    "\n",
    "# Rabbit MQ Producer Learning Item\n",
    "\n",
    "### What is a producer?\n",
    "\n",
    "A producer is a entity (object, application, etc) that creates & sends information to be distributed. In RabbitMQ producers send these messages to an exchange. You can have multiple producers which depending on the exchange will send data to 0 to N queues. For this lab we'll focus on using a single producer. Producers send messages to exchanges along with the routing key associated with that message. At a high level this routing key tells the rabbitMQ framework that the producer would like to send the associated message to queues that match a given regex string. The replication & matching of the routing key is dependant on the type of exchange (explained below). A more concrete example is, we may have a message intended for a particular set of schools that are all in the US. My routing key in that scenario would be \"US\" which would signal this particular message should go to queues designated as US.\n",
    "\n",
    "### Exchanges\n",
    "\n",
    "Exchanges are the mechanism which tell RabbitMQ how messages should be directed to a queue. You can think of an exchange like different delivery services. Delivery service **Direct Delivery!** may deliver messages to queues/locations based on very specific addresses \"123 My Address Road, NY, NY, 10022\". This would be an example of a **direct** exchange where messages are sent to queues that have a *binding key* that exactly matches the message's *routing key*. Other exchanges also exist such as the **fanout** exchange which will replicate an incoming messages to all queues bound to the exchange. A good example of a fanout exchange would be a chat room where an incoming message is sent to all users within the chatroom. Typically, a producer isn't away of the queues or consumers attached to queues. A producer is concerned with what exchange it wants to send it's message to, the distribution method of that exchange and the routing key of the message they want to send.\n",
    "\n",
    "Within Python using pika an exchange can be declared similar to the following:\n",
    "\n",
    "```python\n",
    "#Build our connection to the RMQ Connection.\n",
    "#The AMPQ_URL is a string which tells pika the package the URL of our AMPQ service in this scenario RabbitMQ.\n",
    "conParams = pika.URLParameters(os.environ['AMQP_URL'])\n",
    "connection = pika.BlockingConnection(parameters=conParams)\n",
    "channel = connection.channel()\n",
    "channel.exchange_declare('Test Exchange')\n",
    "\n",
    "#We can then publish data to that exchange using the basic_publish method\n",
    "channel.basic_publish('Test Exchange', 'Test_route', 'Hi',...)\n",
    "```\n",
    "\n",
    "### Problem Definition\n",
    "\n",
    "We want to create a class that is setup to be a producer in the rabbitMQ framework. This class should publish a simple UTF-8 string message with some sort of unique identify (time, counter, etc). This class should loop sending messages until the program receives an exit/keyboard interrupt signal. On construction, the class should be able to take a delay interval which signal how long we should wait before send the next message. The class should also take the routing key to be used on construction.\n",
    "\n",
    "Below are bullet points of the criteria:\n",
    "\n",
    "- Allow for RMQ routing key to be passed in during class construction\n",
    "- Allow for publishing delay to be passed in during class construction\n",
    "- Publish generic message with some form of unique identifier for each message\n",
    "- *Bonus* Allow for function pointer for message generation which is used by publishing class\n",
    "- *Bonus* Set your publishing loop in a way that it doesn't block the main thread.\n",
    "- *Bonus* Create a stopPublishing method. This should stop the publishing loop without a signal or exception being caught.\n",
    "\n",
    "### Provided Tools\n",
    "\n",
    "#### *Data Source*\n",
    "\n",
    "For this section no data generators are provided\n",
    "\n",
    "#### *Solution Interface*\n",
    "\n",
    "Your solution will need to follow the interface provided in the lab. Below is a snippet of the interface for a producer object that you can inherit from. The methods that will be tested are displayed & will need to be overwritten with your implementation. You're free to add more methods then what is displayed in the interface! \n",
    "\n",
    "```python\n",
    "class producerInterface():\n",
    "    def __init__(self, routing_key : str, pub_delay : int, message_producer : Any) -> None:\n",
    "        pass\n",
    "        \n",
    "    def startPublishing(self):\n",
    "        pass\n",
    "```\n",
    "\n",
    "#### *Testing*\n",
    "\n",
    "For this section we'll use the RabbitMQ management UI to ensure we're connected & able to publish messages without actually consuming & decoding them. After completed you should be able to see that you consumer is connected to the RabbitMQ broker & able to publish messages to a queue with the same binding key as the routing key being used. This requires that you define a queue during your testing. For more information & an example check out lesson 2 \"Consumers\"."
   ]
  },
  {
   "cell_type": "code",
   "execution_count": null,
   "metadata": {},
   "outputs": [],
   "source": [
    "#%%writefile ../implementations/producer.py \n",
    "#Uncomment line above & run cell to save solution\n",
    "#TODO Define class that implements producerInterface & allows for the publishing of messages to rabbitMQ"
   ]
  }
 ],
 "metadata": {
  "kernelspec": {
   "display_name": "Python 3.9.5 64-bit",
   "language": "python",
   "name": "python3"
  },
  "language_info": {
   "codemirror_mode": {
    "name": "ipython",
    "version": 3
   },
   "file_extension": ".py",
   "mimetype": "text/x-python",
   "name": "python",
   "nbconvert_exporter": "python",
   "pygments_lexer": "ipython3",
   "version": "3.9.5"
  },
  "orig_nbformat": 4,
  "vscode": {
   "interpreter": {
    "hash": "6faf60acf2378adaaab85c2073b6c5e11a669e6a3edbe78352cafb6588944519"
   }
  }
 },
 "nbformat": 4,
 "nbformat_minor": 2
}
