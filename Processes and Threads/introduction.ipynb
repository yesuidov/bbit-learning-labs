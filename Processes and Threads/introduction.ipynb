{
 "cells": [
  {
   "cell_type": "markdown",
   "metadata": {},
   "source": [
    "### Process\n",
    "\n",
    "A process is an instance of a computer program being executed. Each process has its own memory space it uses to store the instructions being run, as well as any data it needs to store and access to execute.\n",
    "\n",
    "A process's memory can further be divided into the heap & the stack. The stack contains local variables, such as a variable declared and used inside a function. Data on the stack gets allocated & de-allocated as it moves in & out of scope. The heap can be used to create data that exists outside of a function with dynamic allocation using methods such as malloc or new. Within Python, the interpreter takes care of the majority of memory management."
   ]
  },
  {
   "cell_type": "markdown",
   "metadata": {},
   "source": [
    "### Threads\n",
    "Threads are components of a process that can run in parallel. There can be multiple threads in a process, and they share the same memory space, i.e., the parent process's memory space.\n",
    "\n",
    "This would mean the code to be executed, and variables declared in the program's heap can be shared by all threads, but variables on the stack will remain separate across threads.\n",
    "\n",
    "Sharing variables across threads is a powerful aspect of programming but one that can cause various issues if not handled correctly. While threads run in parallel we have limited control on the ordering of code executing.\n",
    "This can lead to scenarios where two threads attempt to manage the usage of a single variable leading to unexpected behavior!"
   ]
  },
  {
   "cell_type": "markdown",
   "metadata": {},
   "source": [
    "### The GIL\n",
    "\n",
    "The GIL (Global Interpreter Lock) ensures that there is no more than one thread in a state of execution at any given moment with the CPython interpreter. This lock is necessary mainly because CPython's memory management is not thread-safe. This results in the CPython interpreter being unable to do two things simultaneously.\n",
    "\n",
    "However, we can achieve true parallelism & bypass the limitations of the GIL using multiprocessing. With multiprocessing, multiple Python processes can be created (resulting in multiple GILs, i.e., 1 per process) to perform parallel processing using multiple CPU cores.\n",
    "\n",
    "More details on on the GIL: https://realpython.com/python-gil/"
   ]
  },
  {
   "cell_type": "markdown",
   "metadata": {},
   "source": [
    "This program will be used as a baseline to compare its runtime with or without multi-threading or multi-processing."
   ]
  },
  {
   "cell_type": "code",
   "execution_count": 4,
   "metadata": {},
   "outputs": [
    {
     "name": "stdout",
     "output_type": "stream",
     "text": [
      "Execution time:5.171923637390137 seconds\n"
     ]
    }
   ],
   "source": [
    "import os\n",
    "import math\n",
    "import time\n",
    "\n",
    "def calc():\n",
    "   for i in range(0, 4000000):\n",
    "       math.sqrt(i)\n",
    "\n",
    "time_0 =  time.time()\n",
    "for i in range(os.cpu_count()):\n",
    "    calc()\n",
    "time_1 =  time.time()\n",
    "print(f'Execution time:{time_1 -time_0} seconds')"
   ]
  },
  {
   "cell_type": "markdown",
   "metadata": {},
   "source": [
    "### Muli-Threading\n",
    "We can perform threading via the threading module. An example is shown below. This example is based on calculating the square root of 4 million numbers. The function to perform this is assigned to a thread. For the context of the example, a thread is created for every core within the system.\n",
    "\n",
    "When you run this you will see that only a single Python process is run, even though multiple threads (based on the number of cores you have) are executed. This is because of the GIL.\n"
   ]
  },
  {
   "cell_type": "code",
   "execution_count": 1,
   "metadata": {},
   "outputs": [
    {
     "name": "stdout",
     "output_type": "stream",
     "text": [
      "registering thread 0\n",
      "registering thread 1\n",
      "registering thread 2\n",
      "registering thread 3\n",
      "registering thread 4\n",
      "registering thread 5\n",
      "registering thread 6\n",
      "registering thread 7\n",
      "registering thread 8\n",
      "registering thread 9\n",
      "registering thread 10\n",
      "registering thread 11\n",
      "registering thread 12\n",
      "registering thread 13\n",
      "registering thread 14\n",
      "registering thread 15\n",
      "Execution time:5.136295557022095 seconds\n"
     ]
    }
   ],
   "source": [
    "from threading import Thread\n",
    "import os\n",
    "import math\n",
    "import time\n",
    "\n",
    "def calc():\n",
    "   for i in range(0, 4000000):\n",
    "       math.sqrt(i)\n",
    "\n",
    "threads = list()\n",
    "\n",
    "for i in range(os.cpu_count()):\n",
    "   print('registering thread %d' % i)\n",
    "   threads.append(Thread(target=calc))\n",
    "\n",
    "time_0 =  time.time()\n",
    "for thread in threads:\n",
    "   thread.start()\n",
    "\n",
    "for thread in threads:\n",
    "   thread.join()\n",
    "time_1 =  time.time()\n",
    "print(f'Execution time:{time_1 -time_0} seconds')"
   ]
  },
  {
   "cell_type": "markdown",
   "metadata": {},
   "source": [
    "### Multiple Processing\n",
    "In order to use multiple processing the multiprocessing module is used. As you can see this module is consumed is much the same as way the threading module`.\n",
    "\n",
    "When run, you will see that multiple Python processes are created, one per core. Each one running its own GIL, and the parallel execution of calc() being performed.\n"
   ]
  },
  {
   "cell_type": "code",
   "execution_count": 2,
   "metadata": {},
   "outputs": [
    {
     "name": "stdout",
     "output_type": "stream",
     "text": [
      "registering process 0\n",
      "registering process 1\n",
      "registering process 2\n",
      "registering process 3\n",
      "registering process 4\n",
      "registering process 5\n",
      "registering process 6\n",
      "registering process 7\n",
      "registering process 8\n",
      "registering process 9\n",
      "registering process 10\n",
      "registering process 11\n",
      "registering process 12\n",
      "registering process 13\n",
      "registering process 14\n",
      "registering process 15\n",
      "Execution time:0.42549967765808105 seconds\n"
     ]
    }
   ],
   "source": [
    "from multiprocessing import Process\n",
    "import os\n",
    "import math\n",
    "import time\n",
    "\n",
    "def calc():\n",
    "   for i in range(0, 4000000):\n",
    "       math.sqrt(i)\n",
    "\n",
    "processes = list()\n",
    "\n",
    "for i in range(os.cpu_count()):\n",
    "   print('registering process %d' % i)\n",
    "   processes.append(Process(target=calc))\n",
    "\n",
    "time_0 =  time.time()\n",
    "for process in processes:\n",
    "   process.start()\n",
    "\n",
    "for process in processes:\n",
    "   process.join()\n",
    "time_1 =  time.time()\n",
    "print(f'Execution time:{time_1 -time_0} seconds')"
   ]
  },
  {
   "cell_type": "markdown",
   "metadata": {},
   "source": [
    "### So when should you use threading over multiprocessing?\n",
    "To summarize you would typically want to use threading when your operations are I/O(Input/Output) bound.\n",
    "\n",
    "For example, let's say making 20 API requests. As we know the GIL would prevent 20 parallel threads from running.\n",
    "\n",
    "The GIL, as we know, will only allow a single thread to execute. However, in the example the running thread will reach out to the network for it's I/O operation.\n",
    "\n",
    "As this I/O is performed outside of Python the GIL would release the lock, and allow the other threads to run. When the first thread’s I/O returned the lock would then be reacquired.\n",
    "\n",
    "Therefore, threading has provided us with some additional benefit without requiring the overhead needed in creating multiple processes.\n",
    "\n",
    "Of course, this is not good for executions that require greater computation, as the GIL/lock upon the thread would remain. In this case, multiprocessing is beneficial, allowing you to split your workload across multiple CPU cores.\n"
   ]
  },
  {
   "cell_type": "markdown",
   "metadata": {},
   "source": []
  }
 ],
 "metadata": {
  "kernelspec": {
   "display_name": "Python 3.10.8 64-bit (microsoft store)",
   "language": "python",
   "name": "python3"
  },
  "language_info": {
   "codemirror_mode": {
    "name": "ipython",
    "version": 3
   },
   "file_extension": ".py",
   "mimetype": "text/x-python",
   "name": "python",
   "nbconvert_exporter": "python",
   "pygments_lexer": "ipython3",
   "version": "3.10.8"
  },
  "orig_nbformat": 4,
  "vscode": {
   "interpreter": {
    "hash": "7c98f8ae44a384d241bb3e4f81176548afab3a4aab267feabd505404a6dbfe73"
   }
  }
 },
 "nbformat": 4,
 "nbformat_minor": 2
}
